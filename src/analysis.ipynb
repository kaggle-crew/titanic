{
 "cells": [
  {
   "cell_type": "markdown",
   "metadata": {},
   "source": [
    "## 1. Raw data"
   ]
  },
  {
   "cell_type": "code",
   "execution_count": 13,
   "metadata": {},
   "outputs": [
    {
     "name": "stdout",
     "output_type": "stream",
     "text": [
      "\n",
      "[ gender_submission ]\n",
      "   PassengerId  Survived\n",
      "0          892         0\n",
      "1          893         1\n",
      "\n",
      "[ train ]\n",
      "   PassengerId  Survived  Pclass  \\\n",
      "0            1         0       3   \n",
      "1            2         1       1   \n",
      "\n",
      "                                                Name     Sex   Age  SibSp  \\\n",
      "0                            Braund, Mr. Owen Harris    male  22.0      1   \n",
      "1  Cumings, Mrs. John Bradley (Florence Briggs Th...  female  38.0      1   \n",
      "\n",
      "   Parch     Ticket     Fare Cabin Embarked  \n",
      "0      0  A/5 21171   7.2500   NaN        S  \n",
      "1      0   PC 17599  71.2833   C85        C  \n",
      "\n",
      "[ test ]\n",
      "   PassengerId  Pclass                              Name     Sex   Age  SibSp  \\\n",
      "0          892       3                  Kelly, Mr. James    male  34.5      0   \n",
      "1          893       3  Wilkes, Mrs. James (Ellen Needs)  female  47.0      1   \n",
      "\n",
      "   Parch  Ticket    Fare Cabin Embarked  \n",
      "0      0  330911  7.8292   NaN        Q  \n",
      "1      0  363272  7.0000   NaN        S  \n"
     ]
    }
   ],
   "source": [
    "import pandas as pd\n",
    "\n",
    "data_gender_submission = pd.read_csv(\"../data/gender_submission.csv\")\n",
    "print(f\"\\n[ gender_submission ]\\n{data_gender_submission.head(2)}\")\n",
    "\n",
    "data_train = pd.read_csv(\"../data/train.csv\")\n",
    "print(f\"\\n[ train ]\\n{data_train.head(2)}\")\n",
    "\n",
    "data_test = pd.read_csv(\"../data/test.csv\")\n",
    "print(f\"\\n[ test ]\\n{data_test.head(2)}\")"
   ]
  },
  {
   "cell_type": "markdown",
   "metadata": {},
   "source": [
    "## 2. Profiling"
   ]
  },
  {
   "cell_type": "code",
   "execution_count": 37,
   "metadata": {},
   "outputs": [
    {
     "data": {
      "application/vnd.jupyter.widget-view+json": {
       "model_id": "8bb82854d10c4024b529b73b2635cc4c",
       "version_major": 2,
       "version_minor": 0
      },
      "text/plain": [
       "Summarize dataset:   0%|          | 0/5 [00:00<?, ?it/s]"
      ]
     },
     "metadata": {},
     "output_type": "display_data"
    },
    {
     "data": {
      "application/vnd.jupyter.widget-view+json": {
       "model_id": "9b9ba1ec490d4c77a3b9e9430d09b7d0",
       "version_major": 2,
       "version_minor": 0
      },
      "text/plain": [
       "Generate report structure:   0%|          | 0/1 [00:00<?, ?it/s]"
      ]
     },
     "metadata": {},
     "output_type": "display_data"
    },
    {
     "data": {
      "application/vnd.jupyter.widget-view+json": {
       "model_id": "e9301547c452495f9eed5643eb1bb35e",
       "version_major": 2,
       "version_minor": 0
      },
      "text/plain": [
       "Render HTML:   0%|          | 0/1 [00:00<?, ?it/s]"
      ]
     },
     "metadata": {},
     "output_type": "display_data"
    },
    {
     "data": {
      "application/vnd.jupyter.widget-view+json": {
       "model_id": "9cc6cecdd8a947f4bf84bc3a4e88b626",
       "version_major": 2,
       "version_minor": 0
      },
      "text/plain": [
       "Export report to file:   0%|          | 0/1 [00:00<?, ?it/s]"
      ]
     },
     "metadata": {},
     "output_type": "display_data"
    }
   ],
   "source": [
    "import matplotlib.pyplot as plt\n",
    "import pandas as pd\n",
    "import ydata_profiling\n",
    "\n",
    "data_gender_submission = pd.read_csv(\"../data/gender_submission.csv\")\n",
    "data_train = pd.read_csv(\"../data/train.csv\")\n",
    "pr = data_train.profile_report()\n",
    "pr.to_file(\"data_train_report.html\")\n"
   ]
  },
  {
   "cell_type": "markdown",
   "metadata": {},
   "source": [
    "### 1) 변수 분석\n",
    "- PassengerId\n",
    "    - 승객 번호\n",
    "    - ex) 892, 893\n",
    "- survival\n",
    "    - 살아 남았는지 여부\n",
    "    - [0, 1]\n",
    "- Name\n",
    "    - 승객 이름\n",
    "- pclass\n",
    "    - 사회 경제적 지위를 대신하여 나타내는 class\n",
    "    - [1, 2, 3]\n",
    "- age\n",
    "    - 나이\n",
    "    - 유리수 (1보다 작을 경우 x.5 의 형태)\n",
    "- sibsp\n",
    "    - 가족관계를 정의한 수치\n",
    "    - 배우자에서 내연녀들과 약혼자는 무시된다\n",
    "    - 형제수 / 배우자수(남편, 아내)\n",
    "- parch\n",
    "    - 가족관계를 정의한 수치\n",
    "    - 부모수(부, 모) / 자녀수(아들, 딸)\n",
    "    - 보모와 여행온 아이들의 경우에 0\n",
    "- sex\n",
    "    - 성별\n",
    "    - [male, female]\n",
    "- ticket\n",
    "    - 티켓 번호 / 다양한 형식의 티켓 번호가 존재\n",
    "    - [A/5 21171, 113803...]\n",
    "- fare\n",
    "    - 승객의 요금\n",
    "- cabin\n",
    "    - 객실 번호\n",
    "    - [C85, C123...]\n",
    "- embarked\n",
    "    - 승선지\n",
    "    - [S, C, Q]\n",
    "    - S = Southampton, C = Cherbourg, Q = Queenstown"
   ]
  },
  {
   "cell_type": "markdown",
   "metadata": {},
   "source": [
    "### 2) 상관관계 분석"
   ]
  },
  {
   "cell_type": "code",
   "execution_count": 57,
   "metadata": {},
   "outputs": [
    {
     "name": "stderr",
     "output_type": "stream",
     "text": [
      "/var/folders/mw/k_rydbt555l0d4t5g9pbrzrw0000gn/T/ipykernel_2434/3342197495.py:26: UserWarning: FixedFormatter should only be used together with FixedLocator\n",
      "  ax_pclass.set_xticklabels([\"1st\", \"2nd\", \"3rd\"], fontsize=12)\n"
     ]
    },
    {
     "data": {
      "image/png": "[encoded data removed]",
      "text/plain": [
       "<Figure size 1500x1500 with 2 Axes>"
      ]
     },
     "metadata": {},
     "output_type": "display_data"
    }
   ],
   "source": [
    "import matplotlib.pylab as plt\n",
    "import pandas as pd\n",
    "import numpy as np\n",
    "\n",
    "fig = plt.figure(figsize=(15, 15))\n",
    "\n",
    "data_train = pd.read_csv(\"../data/train.csv\")\n",
    "len_data_train_features = data_train.columns.size\n",
    "\n",
    "target_name = \"Survived\"\n",
    "survived = data_train[target_name]\n",
    "\n",
    "# Pclass\n",
    "feat_name_pclass = \"Pclass\"\n",
    "feat_pclass = data_train[feat_name_pclass].unique()\n",
    "feat_pclass.sort()\n",
    "ax_pclass = fig.add_subplot(3, 3, 1)\n",
    "ax_pclass.set_title(feat_name_pclass)\n",
    "ax_pclass.set_xticklabels([\"1st\", \"2nd\", \"3rd\"], fontsize=12)\n",
    "sum_targets = \"sum_targets\"\n",
    "named_group = data_train.groupby(feat_name_pclass).agg(**{sum_targets: (target_name, \"sum\")}).reset_index()\n",
    "ax_pclass.bar(feat_pclass, named_group[sum_targets], width=0.5)\n",
    "ax_pclass.set_xticks(feat_pclass)\n",
    "for idx, pclass in enumerate(named_group[feat_name_pclass]):\n",
    "    ax_pclass.annotate(text=named_group[sum_targets][idx],\n",
    "                xy=(pclass, named_group[sum_targets][idx]),\n",
    "                ha=\"center\",\n",
    "                va=\"bottom\")\n",
    "\n",
    "# Age\n",
    "feat_name_age = \"Age\"\n",
    "grouped_age = data_train[feat_name_age].apply(lambda age: age // 10)\n",
    "concated_age_survived = pd.concat([survived, grouped_age], axis=\"columns\", keys=[target_name, feat_name_age])\n",
    "age_group_count = concated_age_survived.groupby(\"Age\").sum().reset_index()\n",
    "ax_age = fig.add_subplot(3, 3, 2)\n",
    "ax_age.bar(age_group_count[feat_name_age], age_group_count[target_name])\n",
    "ax_age.set_title(feat_name_age)\n",
    "ax_age.set_xticks(age_group_count[feat_name_age])\n",
    "ax_age.set_xticklabels((age_group_count[feat_name_age] * 10).apply(int))\n",
    "for idx, age in enumerate(age_group_count[feat_name_age]):\n",
    "    ax_age.annotate(text=age_group_count[target_name][idx],\n",
    "                    xy=(age, age_group_count[target_name][idx]),\n",
    "                    ha=\"center\",\n",
    "                    va=\"bottom\")\n",
    "\n",
    "plt.show()"
   ]
  }
 ],
 "metadata": {
  "kernelspec": {
   "display_name": "ai2",
   "language": "python",
   "name": "python3"
  },
  "language_info": {
   "codemirror_mode": {
    "name": "ipython",
    "version": 3
   },
   "file_extension": ".py",
   "mimetype": "text/x-python",
   "name": "python",
   "nbconvert_exporter": "python",
   "pygments_lexer": "ipython3",
   "version": "3.11.4"
  }
 },
 "nbformat": 4,
 "nbformat_minor": 2
}
